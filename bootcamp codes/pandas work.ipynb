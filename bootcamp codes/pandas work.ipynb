{
 "cells": [
  {
   "cell_type": "code",
   "execution_count": 1,
   "metadata": {},
   "outputs": [],
   "source": [
    "import pandas as pd"
   ]
  },
  {
   "cell_type": "markdown",
   "metadata": {},
   "source": [
    "read_csv reads the csv file and loads into memory"
   ]
  },
  {
   "cell_type": "code",
   "execution_count": 2,
   "metadata": {},
   "outputs": [],
   "source": [
    "df=pd.read_csv('2014-census-data--population-by-broad-age-groups-and-sub-counties-in-each-district---sheet1.csv')"
   ]
  },
  {
   "cell_type": "code",
   "execution_count": 3,
   "metadata": {},
   "outputs": [],
   "source": [
    "import pandas as pd\n",
    "\n",
    "# Replace 'your_file_path' with the actual path to your CSV file\n",
    "file_path = '2014-census-data--population-by-broad-age-groups-and-sub-counties-in-each-district---sheet1.csv'\n",
    "\n",
    "# Read the CSV file into a Pandas DataFrame\n",
    "df = pd.read_csv(file_path)\n",
    "\n",
    "# Now, you can work with the DataFrame 'df'\n"
   ]
  },
  {
   "cell_type": "markdown",
   "metadata": {},
   "source": [
    "head function returns the first five rows of the dataframe"
   ]
  },
  {
   "cell_type": "code",
   "execution_count": 4,
   "metadata": {},
   "outputs": [
    {
     "name": "stdout",
     "output_type": "stream",
     "text": [
      "     Region District         Sub-county    0-4    0-8    0-17   6-12  13-18  \\\n",
      "0  Northern     Abim               Abim  2,138  3,949   7,413  3,048  2,142   \n",
      "1  Northern     Abim  Abim Town Council  2,805  5,236   9,739  3,935  2,836   \n",
      "2  Northern     Abim             Alerek  3,159  6,005  10,554  4,517  2,778   \n",
      "3  Northern     Abim            Lotukei  3,779  7,200  13,389  5,562  3,846   \n",
      "4  Northern     Abim            Morulem  4,319  7,777  13,547  5,415  3,565   \n",
      "\n",
      "   18-30   14-64  60+  15-24  15-29 Females 15 - 49  65+  \n",
      "0  2,665   6,047  484  2,692  3,403           2,722  346  \n",
      "1  3,885   8,806  549  3,660  4,918           3,900  389  \n",
      "2  3,757   8,325  547  3,543  4,654           3,706  376  \n",
      "3  5,067  11,409  671  4,928  6,448           5,266  489  \n",
      "4  4,543  10,826  832  4,434  5,789           4,841  554  \n"
     ]
    }
   ],
   "source": [
    "print(df.head())"
   ]
  },
  {
   "cell_type": "markdown",
   "metadata": {},
   "source": [
    "returns the first 10 rows of the dataset"
   ]
  },
  {
   "cell_type": "code",
   "execution_count": 5,
   "metadata": {},
   "outputs": [
    {
     "name": "stdout",
     "output_type": "stream",
     "text": [
      "     Region  District             Sub-county     0-4     0-8    0-17    6-12  \\\n",
      "0  Northern      Abim                   Abim   2,138   3,949   7,413   3,048   \n",
      "1  Northern      Abim      Abim Town Council   2,805   5,236   9,739   3,935   \n",
      "2  Northern      Abim                 Alerek   3,159   6,005  10,554   4,517   \n",
      "3  Northern      Abim                Lotukei   3,779   7,200  13,389   5,562   \n",
      "4  Northern      Abim                Morulem   4,319   7,777  13,547   5,415   \n",
      "5  Northern      Abim                Nyakwae   3,031   5,406   9,104   3,679   \n",
      "6  Northern      Abim               District  19,231  35,573  63,746  26,156   \n",
      "7  Northern  Adjumani  Adjumani Town Council   5,252   9,563  18,865   7,235   \n",
      "8  Northern  Adjumani                 Adropi   2,172   3,671   6,651   2,505   \n",
      "9  Northern  Adjumani               Arinyapi   2,132   3,711   6,678   2,563   \n",
      "\n",
      "    13-18   18-30   14-64    60+   15-24   15-29 Females 15 - 49    65+  \n",
      "0   2,142   2,665   6,047    484   2,692   3,403           2,722    346  \n",
      "1   2,836   3,885   8,806    549   3,660   4,918           3,900    389  \n",
      "2   2,778   3,757   8,325    547   3,543   4,654           3,706    376  \n",
      "3   3,846   5,067  11,409    671   4,928   6,448           5,266    489  \n",
      "4   3,565   4,543  10,826    832   4,434   5,789           4,841    554  \n",
      "5   2,278   3,128   6,971    477   2,849   3,833           3,135    294  \n",
      "6  17,445  23,045  52,384  3,560  22,106  29,045          23,570  2,448  \n",
      "7   6,316   8,884  19,786  1,023   8,453  11,281           9,165    648  \n",
      "8   1,836   2,484   5,846    306   2,304   3,186           2,639    192  \n",
      "9   1,913   2,656   6,028    329   2,530   3,398           2,712    223  \n"
     ]
    }
   ],
   "source": [
    "print(df.head(10))"
   ]
  },
  {
   "cell_type": "markdown",
   "metadata": {},
   "source": [
    "returns the last 5 rows of the dataset"
   ]
  },
  {
   "cell_type": "code",
   "execution_count": 9,
   "metadata": {},
   "outputs": [
    {
     "name": "stdout",
     "output_type": "stream",
     "text": [
      "       Region District        Sub-county     0-4      0-8     0-17     6-12  \\\n",
      "1494  Eastern   Tororo           Rubongi   6,145   10,842   20,370    7,998   \n",
      "1495  Eastern   Tororo           Sop-Sop   2,846    4,886    8,513    3,347   \n",
      "1496  Eastern   Tororo  Eastern Division   2,648    4,626    9,081    3,414   \n",
      "1497  Eastern   Tororo  Western Division   3,295    5,596   10,875    4,062   \n",
      "1498  Eastern   Tororo          District  91,269  159,573  291,043  114,302   \n",
      "\n",
      "       13-18    18-30    14-64     60+    15-24    15-29 Females 15 - 49  \\\n",
      "1494   6,095    7,396   18,886   1,832    7,691    9,678           8,181   \n",
      "1495   2,138    2,646    6,825     712    2,740    3,508           3,025   \n",
      "1496   3,008    4,622   10,784     618    4,367    5,792           5,016   \n",
      "1497   3,587    5,994   13,259     624    5,322    7,320           6,442   \n",
      "1498  81,049  101,178  258,554  24,972  103,690  132,808         114,276   \n",
      "\n",
      "         65+  \n",
      "1494   1,262  \n",
      "1495     474  \n",
      "1496     391  \n",
      "1497     397  \n",
      "1498  17,213  \n"
     ]
    }
   ],
   "source": [
    "print(df.tail())"
   ]
  },
  {
   "cell_type": "markdown",
   "metadata": {},
   "source": [
    "Activity one"
   ]
  },
  {
   "cell_type": "markdown",
   "metadata": {},
   "source": [
    "write a panda function to display the last 20 elements of the csv file."
   ]
  },
  {
   "cell_type": "markdown",
   "metadata": {},
   "source": [
    "isnull function returns a Boolean value indicating whether each value in a DataFrame is missing.\n"
   ]
  },
  {
   "cell_type": "code",
   "execution_count": 14,
   "metadata": {},
   "outputs": [
    {
     "name": "stdout",
     "output_type": "stream",
     "text": [
      "      Region  District  Sub-county    0-4    0-8   0-17   6-12  13-18  18-30  \\\n",
      "0      False     False       False  False  False  False  False  False  False   \n",
      "1      False     False       False  False  False  False  False  False  False   \n",
      "2      False     False       False  False  False  False  False  False  False   \n",
      "3      False     False       False  False  False  False  False  False  False   \n",
      "4      False     False       False  False  False  False  False  False  False   \n",
      "...      ...       ...         ...    ...    ...    ...    ...    ...    ...   \n",
      "1494   False     False       False  False  False  False  False  False  False   \n",
      "1495   False     False       False  False  False  False  False  False  False   \n",
      "1496   False     False       False  False  False  False  False  False  False   \n",
      "1497   False     False       False  False  False  False  False  False  False   \n",
      "1498   False     False       False  False  False  False  False  False  False   \n",
      "\n",
      "      14-64    60+  15-24  15-29  Females 15 - 49    65+  \n",
      "0     False  False  False  False            False  False  \n",
      "1     False  False  False  False            False  False  \n",
      "2     False  False  False  False            False  False  \n",
      "3     False  False  False  False            False  False  \n",
      "4     False  False  False  False            False  False  \n",
      "...     ...    ...    ...    ...              ...    ...  \n",
      "1494  False  False  False  False            False  False  \n",
      "1495  False  False  False  False            False  False  \n",
      "1496  False  False  False  False            False  False  \n",
      "1497  False  False  False  False            False  False  \n",
      "1498  False  False  False  False            False  False  \n",
      "\n",
      "[1499 rows x 15 columns]\n"
     ]
    }
   ],
   "source": [
    "print(df.isnull())"
   ]
  },
  {
   "cell_type": "markdown",
   "metadata": {},
   "source": [
    "This function provides a summary of the statistical distribution of the data in a DataFrame"
   ]
  },
  {
   "cell_type": "code",
   "execution_count": 7,
   "metadata": {},
   "outputs": [
    {
     "name": "stdout",
     "output_type": "stream",
     "text": [
      "         Region District Sub-county    0-4    0-8    0-17   6-12  13-18  \\\n",
      "count      1499     1499       1499   1499   1499    1499   1499   1499   \n",
      "unique        4      111       1332   1386   1438    1460   1405   1366   \n",
      "top     Eastern  Kibaale   District  4,836  4,988  20,657  4,375  2,369   \n",
      "freq        449       36        110      3      3       2      3      3   \n",
      "\n",
      "        18-30  14-64   60+  15-24  15-29 Females 15 - 49   65+  \n",
      "count    1499   1499  1499   1499   1499            1499  1499  \n",
      "unique   1399   1452  1111   1378   1410            1384   985  \n",
      "top     3,354  8,869   557  9,408  4,074           2,817   273  \n",
      "freq        3      3     5      3      4               4     7  \n"
     ]
    }
   ],
   "source": [
    "print(df.describe())"
   ]
  },
  {
   "cell_type": "markdown",
   "metadata": {},
   "source": []
  }
 ],
 "metadata": {
  "kernelspec": {
   "display_name": "base",
   "language": "python",
   "name": "python3"
  },
  "language_info": {
   "codemirror_mode": {
    "name": "ipython",
    "version": 3
   },
   "file_extension": ".py",
   "mimetype": "text/x-python",
   "name": "python",
   "nbconvert_exporter": "python",
   "pygments_lexer": "ipython3",
   "version": "3.10.9"
  },
  "orig_nbformat": 4
 },
 "nbformat": 4,
 "nbformat_minor": 2
}
