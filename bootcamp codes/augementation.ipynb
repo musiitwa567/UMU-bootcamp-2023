{
 "cells": [
  {
   "cell_type": "code",
   "execution_count": 1,
   "metadata": {},
   "outputs": [
    {
     "name": "stderr",
     "output_type": "stream",
     "text": [
      "C:\\Users\\peter\\AppData\\Local\\Temp\\ipykernel_8900\\52372210.py:41: RuntimeWarning: More than 20 figures have been opened. Figures created through the pyplot interface (`matplotlib.pyplot.figure`) are retained until explicitly closed and may consume too much memory. (To control this warning, see the rcParam `figure.max_open_warning`). Consider using `matplotlib.pyplot.close()`.\n",
      "  plt.figure(figsize=(6, 6))\n"
     ]
    }
   ],
   "source": [
    "import os\n",
    "import cv2\n",
    "import numpy as np\n",
    "import matplotlib.pyplot as plt\n",
    "\n",
    "# Function to apply data augmentation techniques\n",
    "def apply_augmentation(image, technique):\n",
    "    if technique == \"flip\":\n",
    "        return cv2.flip(image, 1)  # Horizontal flip\n",
    "    elif technique == \"rotate\":\n",
    "        angle = np.random.randint(-30, 30)  # Rotate between -30 to 30 degrees\n",
    "        rows, cols, _ = image.shape\n",
    "        rotation_matrix = cv2.getRotationMatrix2D((cols / 2, rows / 2), angle, 1)\n",
    "        return cv2.warpAffine(image, rotation_matrix, (cols, rows))\n",
    "    elif technique == \"brightness\":\n",
    "        factor = 0.5 + np.random.random()  # Adjust brightness by a random factor between 0.5 and 1.5\n",
    "        return cv2.convertScaleAbs(image, alpha=factor, beta=0)\n",
    "    elif technique == \"blur\":\n",
    "        kernel_size = np.random.choice([3, 5, 7])  # Apply Gaussian blur with kernel size 3, 5, or 7\n",
    "        return cv2.GaussianBlur(image, (kernel_size, kernel_size), 0)\n",
    "    else:\n",
    "        return image\n",
    "\n",
    "# Path to the directory containing the original images\n",
    "input_folder = r\"dogs\"\n",
    "output_folder = \"augmented_dogs\"\n",
    "\n",
    "# Create the output directory if it doesn't exist\n",
    "if not os.path.exists(output_folder):\n",
    "    os.makedirs(output_folder)\n",
    "\n",
    "# List of data augmentation techniques\n",
    "augmentation_techniques = [\"flip\", \"rotate\", \"brightness\", \"blur\"]\n",
    "\n",
    "# Iterate through the images in the input folder\n",
    "for filename in os.listdir(input_folder):\n",
    "    if filename.endswith((\".jpg\", \".jpeg\", \".png\")):\n",
    "        image = cv2.imread(os.path.join(input_folder, filename))\n",
    "\n",
    "        # Display the original image\n",
    "        plt.figure(figsize=(6, 6))\n",
    "        plt.imshow(cv2.cvtColor(image, cv2.COLOR_BGR2RGB))\n",
    "        plt.title(\"Original Image\")\n",
    "        plt.axis('off')\n",
    "        plt.savefig(os.path.join(output_folder, f\"original_{filename}\"))\n",
    "        plt.clf()\n",
    "\n",
    "        # Apply data augmentation techniques\n",
    "        for technique in augmentation_techniques:\n",
    "            augmented_image = apply_augmentation(image.copy(), technique)\n",
    "\n",
    "            # Display the augmented image with title\n",
    "            plt.figure(figsize=(6, 6))\n",
    "            plt.imshow(cv2.cvtColor(augmented_image, cv2.COLOR_BGR2RGB))\n",
    "            plt.title(f\"Augmented ({technique.capitalize()})\")\n",
    "            plt.axf    is('off')\n",
    "\n",
    "            # Save the augmented image\n",
    "            output_filename = f\"{technique}_{filename}\"\n",
    "            cv2.imwrite(os.path.join(output_folder, output_filename), augmented_image)\n",
    "            plt.savefig(os.path.join(output_folder, f\"{output_filename}.png\"))\n",
    "            plt.clf()\n",
    "\n",
    "# Close all Matplotlib figures\n",
    "plt.close(\"all\")\n"
   ]
  },
  {
   "cell_type": "code",
   "execution_count": 2,
   "metadata": {},
   "outputs": [
    {
     "name": "stdout",
     "output_type": "stream",
     "text": [
      "['apples', 'oranges']\n"
     ]
    }
   ],
   "source": [
    "fruits = [\"apples\", \"mangoes\", \"oranges\"]\n",
    "fruits.remove(\"mangoes\")\n",
    "print(fruits)\n"
   ]
  }
 ],
 "metadata": {
  "kernelspec": {
   "display_name": "base",
   "language": "python",
   "name": "python3"
  },
  "language_info": {
   "codemirror_mode": {
    "name": "ipython",
    "version": 3
   },
   "file_extension": ".py",
   "mimetype": "text/x-python",
   "name": "python",
   "nbconvert_exporter": "python",
   "pygments_lexer": "ipython3",
   "version": "3.10.9"
  },
  "orig_nbformat": 4
 },
 "nbformat": 4,
 "nbformat_minor": 2
}
