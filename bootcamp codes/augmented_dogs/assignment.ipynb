{
 "cells": [
  {
   "cell_type": "markdown",
   "metadata": {},
   "source": [
    "ASSIGNMENT VARIABLES"
   ]
  },
  {
   "cell_type": "markdown",
   "metadata": {},
   "source": [
    "Variable Names: Variable names are case-sensitive and can include letters, numbers, and underscores. Variable names must start with a letter (a-z, A-Z) or an underscore (_)."
   ]
  },
  {
   "cell_type": "code",
   "execution_count": 5,
   "metadata": {},
   "outputs": [],
   "source": [
    "x = 10        # Valid variable name\n",
    "Name = \"John\" # Valid variable name\n",
    "#123abc = 5    # Invalid variable name (starts with a number)\n",
    "my-variable = 7  # Invalid variable name (contains a hyphen)\n"
   ]
  },
  {
   "cell_type": "code",
   "execution_count": 3,
   "metadata": {},
   "outputs": [],
   "source": [
    "x = 10        # Valid variable name\n",
    "Name = \"John\" # Valid variable name\n",
    "# The following line is invalid:\n",
    "#123abc = 5    # Invalid variable name (starts with a number)\n",
    "# The variable name '123abc' cannot start with a number.\n"
   ]
  },
  {
   "cell_type": "markdown",
   "metadata": {},
   "source": [
    "\n",
    "Assignment Operator (=): The assignment operator = is used to assign a value to a variable."
   ]
  },
  {
   "cell_type": "code",
   "execution_count": 6,
   "metadata": {},
   "outputs": [],
   "source": [
    "x = 10       # Assigns the value 10 to the variable x\n",
    "name = \"John\"  # Assigns the string \"John\" to the variable name\n"
   ]
  },
  {
   "cell_type": "markdown",
   "metadata": {},
   "source": [
    "Dynamic Typing: Python is dynamically typed, which means you don't need to declare the data type of a variable explicitly. Python determines the data type based on the assigned value."
   ]
  },
  {
   "cell_type": "code",
   "execution_count": 7,
   "metadata": {},
   "outputs": [],
   "source": [
    "x = 10       # x is an integer\n",
    "name = \"John\"  # name is a string\n"
   ]
  },
  {
   "cell_type": "markdown",
   "metadata": {},
   "source": [
    "Reassignment: You can change the value of a variable by assigning a new value to it. The variable will now hold the new value."
   ]
  },
  {
   "cell_type": "code",
   "execution_count": 8,
   "metadata": {},
   "outputs": [],
   "source": [
    "x = 10       # x is 10\n",
    "x = 20       # x is now 20\n"
   ]
  },
  {
   "cell_type": "markdown",
   "metadata": {},
   "source": [
    "Multiple Assignments: You can assign multiple variables in a single line by separating them with commas."
   ]
  },
  {
   "cell_type": "code",
   "execution_count": 9,
   "metadata": {},
   "outputs": [],
   "source": [
    "a, b, c = 1, 2, 3\n"
   ]
  },
  {
   "cell_type": "markdown",
   "metadata": {},
   "source": [
    "Swapping Variables: You can swap the values of two variables without using a temporary variable."
   ]
  },
  {
   "cell_type": "code",
   "execution_count": 12,
   "metadata": {},
   "outputs": [],
   "source": [
    "x = 5\n",
    "y = 10\n",
    "x, y = y, x  # Swaps the values of x and y\n",
    "\n"
   ]
  },
  {
   "cell_type": "markdown",
   "metadata": {},
   "source": [
    "Augmented Assignment Operators: Python provides shorthand operators for common operations combined with assignment."
   ]
  },
  {
   "cell_type": "code",
   "execution_count": 13,
   "metadata": {},
   "outputs": [],
   "source": [
    "x = 5\n",
    "x += 3      # Equivalent to x = x + 3 (x is now 8)\n"
   ]
  },
  {
   "cell_type": "markdown",
   "metadata": {},
   "source": [
    "None: In Python, None is a special value representing the absence of a value. You can assign None to a variable."
   ]
  },
  {
   "cell_type": "code",
   "execution_count": 14,
   "metadata": {},
   "outputs": [],
   "source": [
    "value = None\n"
   ]
  },
  {
   "cell_type": "markdown",
   "metadata": {},
   "source": [
    "Global and Local Scope: Variables can have different scopes. Variables declared outside of any function have global scope, while variables declared inside a function have local scope."
   ]
  },
  {
   "cell_type": "code",
   "execution_count": 15,
   "metadata": {},
   "outputs": [],
   "source": [
    "global_var = 10  # Global variable\n",
    "\n",
    "def my_function():\n",
    "    local_var = 5  # Local variable\n"
   ]
  },
  {
   "cell_type": "markdown",
   "metadata": {},
   "source": [
    "Constants: Although Python doesn't have built-in constants, programmers often use uppercase variable names to indicate that a variable should not be changed (a convention, not enforced by the language)."
   ]
  },
  {
   "cell_type": "code",
   "execution_count": 20,
   "metadata": {},
   "outputs": [],
   "source": [
    "PI = 3.14159\n"
   ]
  },
  {
   "cell_type": "markdown",
   "metadata": {},
   "source": [
    "Creating Variables:\n",
    "\n",
    "To create a variable in Python, you simply assign a value to a name. Python will automatically determine the data type based on the assigned value. Here are some examples:"
   ]
  },
  {
   "cell_type": "code",
   "execution_count": 21,
   "metadata": {},
   "outputs": [],
   "source": [
    "x = 10          # Assign an integer\n",
    "name = \"John\"   # Assign a string\n",
    "pi = 3.14159    # Assign a floating-point number\n",
    "is_valid = True # Assign a boolean\n",
    "my_list = [1, 2, 3] # Assign a list\n"
   ]
  }
 ],
 "metadata": {
  "kernelspec": {
   "display_name": "base",
   "language": "python",
   "name": "python3"
  },
  "language_info": {
   "codemirror_mode": {
    "name": "ipython",
    "version": 3
   },
   "file_extension": ".py",
   "mimetype": "text/x-python",
   "name": "python",
   "nbconvert_exporter": "python",
   "pygments_lexer": "ipython3",
   "version": "3.10.9"
  },
  "orig_nbformat": 4
 },
 "nbformat": 4,
 "nbformat_minor": 2
}
